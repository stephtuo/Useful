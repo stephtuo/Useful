{
 "cells": [
  {
   "cell_type": "markdown",
   "id": "abfdd26c-1ab0-4b6c-b4ca-b1e8b382b87a",
   "metadata": {},
   "source": [
    "#### Imports and runtimes"
   ]
  },
  {
   "cell_type": "code",
   "execution_count": 1,
   "id": "64539074-93fd-49ba-b025-cec4cade80c8",
   "metadata": {},
   "outputs": [
    {
     "name": "stdout",
     "output_type": "stream",
     "text": [
      "time: 0 ns (started: 2023-05-11 16:44:22 +01:00)\n"
     ]
    }
   ],
   "source": [
    "#---------------------#\n",
    "#       Imports       #\n",
    "#---------------------#\n",
    "import pandas as pd\n",
    "from simple_salesforce import Salesforce\n",
    "import requests\n",
    "from io import StringIO\n",
    "import calendar\n",
    "import datetime\n",
    "from datetime import date\n",
    "\n",
    "try:\n",
    "    %load_ext autotime\n",
    "except:\n",
    "    !pip install ipython-autotime\n",
    "    %load_ext autotime"
   ]
  },
  {
   "cell_type": "markdown",
   "id": "b82c57b1-dd6a-4621-9e00-346571597495",
   "metadata": {},
   "source": [
    "#### Locations"
   ]
  },
  {
   "cell_type": "code",
   "execution_count": null,
   "id": "3ca2ca62-faee-4d39-872f-ee454368ca67",
   "metadata": {},
   "outputs": [],
   "source": [
    "project = \"Brand Health Dashboards\"\n",
    "main = r\"C:/Users/Stephanie.Tuohey/OneDrive - Chiaro Technology Ltd/Projects/\" + project\n",
    "data = main + r\"/data\"\n",
    "inputs = data + r\"/inputs\"\n",
    "outputs = data + r\"/outputs\""
   ]
  },
  {
   "cell_type": "markdown",
   "id": "13d40917-16e4-4b15-bdf6-19ae0b8f2cef",
   "metadata": {},
   "source": [
    "#### Connect to Salesforce and retrieve Report"
   ]
  },
  {
   "cell_type": "code",
   "execution_count": null,
   "id": "bb91c838-d4f7-4e71-8516-47616a317520",
   "metadata": {},
   "outputs": [],
   "source": [
    "ReportId = \"00O8d000005r9h1EAA\" # VoC data - Jan 2023\n",
    "\n",
    "import sys\n",
    "sys.path.append('C:\\\\Users\\\\Stephanie.Tuohey\\\\OneDrive - Chiaro Technology Ltd\\\\Projects')\n",
    "import sf_code\n",
    "from sf_code import gimme_sf_data\n",
    "download_report,StringIO = gimme_sf_data(ReportId)\n",
    "raw = pd.read_csv(StringIO(download_report), parse_dates=['Opened Date'], dayfirst=True)"
   ]
  },
  {
   "cell_type": "markdown",
   "id": "09ce375d-cdeb-4b55-b98c-12c344be89cd",
   "metadata": {},
   "source": [
    "#### Read data"
   ]
  },
  {
   "cell_type": "code",
   "execution_count": null,
   "id": "5bdb8ae8-776c-44cf-9799-f936eb3573a9",
   "metadata": {},
   "outputs": [],
   "source": [
    "df = pd.read_csv(data + r\"/file_name.csv\")\n",
    "df = pd.read_excel(data + r\"/file_name.xlsx\", sheet_name=\"Sheet 1\")"
   ]
  },
  {
   "cell_type": "markdown",
   "id": "1ef1188a-6c3e-4f96-a095-53eccb8ffd3c",
   "metadata": {},
   "source": [
    "#### Loops"
   ]
  },
  {
   "cell_type": "code",
   "execution_count": null,
   "id": "78d4ac4a-c61d-4285-a7b5-c4c57e94d5aa",
   "metadata": {},
   "outputs": [],
   "source": [
    "#define vars for loop\n",
    "Years = [\"2021\", \"2022\", \"2023\"]\n",
    "Quarters = [\"Q1\", \"Q2\", \"Q3\", \"Q4\"]\n",
    "\n",
    "#create dictionary to hold resulting dataframes\n",
    "data_dict = {}\n",
    "\n",
    "#loop through all vars\n",
    "for XXXX in Years:\n",
    "    for Q in Quarters:\n",
    "            #end loop where vars don't exist\n",
    "            if XXXX == \"2023\" and (Q == \"Q2\" or Q == \"Q3\" or Q == \"Q4\"):\n",
    "                break\n",
    "            \n",
    "            df = pd.read_excel(data + r\"/\" + XXXX + r\"/\" + \" \" + Q + \" \" + XXXX + \".xlsx\")\n",
    "            df[\"Date\"] = XXXX + \" \" + Q\n",
    "            \n",
    "#store df in dictionary\n",
    "            data_dict[Q + XXXX] = df"
   ]
  },
  {
   "cell_type": "markdown",
   "id": "a56cd1a0-8d47-4d07-b718-bc8a1e4af069",
   "metadata": {},
   "source": [
    "#### Derived fields"
   ]
  },
  {
   "cell_type": "code",
   "execution_count": null,
   "id": "4b0822e1-ffbc-456e-82b1-19a00fe17579",
   "metadata": {},
   "outputs": [],
   "source": [
    "def metric_def (row):\n",
    "    if row['Question number'] == Unprompted_var:\n",
    "        return \"Unprompted awareness\"\n",
    "    if row['Question number'] == Prompted_var:\n",
    "        return \"Prompted awareness\"\n",
    "    else:\n",
    "        return \"\"\n",
    "\n",
    "df[\"metric\"] = df.apply (lambda row: metric_def(row), axis=1)"
   ]
  },
  {
   "cell_type": "markdown",
   "id": "7dfadff4-a7d4-47c1-97b0-ea14e328fbb3",
   "metadata": {},
   "source": [
    "#### Set/concat dfs on top of eachother"
   ]
  },
  {
   "cell_type": "code",
   "execution_count": null,
   "id": "fca0edec-84d0-433f-bdc6-ae508805ed12",
   "metadata": {},
   "outputs": [],
   "source": [
    "df_concat = pd.concat((\n",
    "                # UK data\n",
    "                data_dict[\"UK\" + \"Q1\" + \"2021\"],\n",
    "                data_dict[\"UK\" + \"Q2\" + \"2021\"]                \n",
    "                ), ignore_index = True)"
   ]
  },
  {
   "cell_type": "markdown",
   "id": "53d2909b-57a5-47d1-84eb-59d0cc5e219a",
   "metadata": {},
   "source": [
    "#### Create variable from dataframe"
   ]
  },
  {
   "cell_type": "code",
   "execution_count": null,
   "id": "de9a9c15-4dfc-4fb1-8209-ca66a85d76d6",
   "metadata": {},
   "outputs": [],
   "source": [
    "df_filtered = df[df[\"Column\"] == \"string\"]\n",
    "\n",
    "# Call symput equivalent\n",
    "var = df_filtered.iloc[0][\"Column\"]"
   ]
  },
  {
   "cell_type": "markdown",
   "id": "a6bef52b-2982-4d6b-8a63-e6733eab4b48",
   "metadata": {},
   "source": [
    "#### Where statement / df filtering"
   ]
  },
  {
   "cell_type": "code",
   "execution_count": null,
   "id": "a1e8d320-38cf-4365-9097-694843938c45",
   "metadata": {},
   "outputs": [],
   "source": [
    "df = df[df[\"Response\"] != \"Skipped\"]\n",
    "df = df[df[\"Response\"] == \"Skipped\"]"
   ]
  },
  {
   "cell_type": "markdown",
   "id": "909fae23-fd0a-4ff7-8540-a154bde79c21",
   "metadata": {},
   "source": [
    "#### Print to csv"
   ]
  },
  {
   "cell_type": "code",
   "execution_count": null,
   "id": "0247bae0-2db9-488f-923e-d8336bceec85",
   "metadata": {},
   "outputs": [],
   "source": [
    "df.to_csv(\"test.csv\", index=False)"
   ]
  },
  {
   "cell_type": "markdown",
   "id": "b4cc45f0-5610-4e57-8eb6-2274bf3cc506",
   "metadata": {},
   "source": [
    "#### Summarise data"
   ]
  },
  {
   "cell_type": "code",
   "execution_count": null,
   "id": "94201ff3-4e06-407e-ba9e-a161d7232e6d",
   "metadata": {},
   "outputs": [],
   "source": [
    "Totals = df.groupby(['Survey', 'Question number'],\n",
    "                    dropna=False, as_index=False)['Respondent ID'].agg(['count']).rename(columns={'count':'Total'})\n",
    "Totals = Totals.reset_index()"
   ]
  },
  {
   "cell_type": "markdown",
   "id": "2b97623f-172f-4de3-a235-8d648db3b749",
   "metadata": {},
   "source": [
    "#### Merge two dfs"
   ]
  },
  {
   "cell_type": "code",
   "execution_count": null,
   "id": "3bc4fb57-269c-4a89-9578-efac6f8545f0",
   "metadata": {},
   "outputs": [],
   "source": [
    "merged = df.merge(Totals, how = 'left', on = ['Survey', 'Question number'])"
   ]
  }
 ],
 "metadata": {
  "kernelspec": {
   "display_name": "Python 3 (ipykernel)",
   "language": "python",
   "name": "python3"
  },
  "language_info": {
   "codemirror_mode": {
    "name": "ipython",
    "version": 3
   },
   "file_extension": ".py",
   "mimetype": "text/x-python",
   "name": "python",
   "nbconvert_exporter": "python",
   "pygments_lexer": "ipython3",
   "version": "3.9.12"
  }
 },
 "nbformat": 4,
 "nbformat_minor": 5
}
