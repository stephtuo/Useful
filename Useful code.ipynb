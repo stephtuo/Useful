{
 "cells": [
  {
   "cell_type": "markdown",
   "id": "abfdd26c-1ab0-4b6c-b4ca-b1e8b382b87a",
   "metadata": {},
   "source": [
    "#### Imports and runtimes"
   ]
  },
  {
   "cell_type": "code",
   "execution_count": 1,
   "id": "64539074-93fd-49ba-b025-cec4cade80c8",
   "metadata": {
    "scrolled": true
   },
   "outputs": [
    {
     "name": "stdout",
     "output_type": "stream",
     "text": [
      "time: 0 ns (started: 2023-05-11 16:44:22 +01:00)\n"
     ]
    }
   ],
   "source": [
    "#---------------------#\n",
    "#       Imports       #\n",
    "#---------------------#\n",
    "import pandas as pd\n",
    "from simple_salesforce import Salesforce\n",
    "import requests\n",
    "from io import StringIO\n",
    "import calendar\n",
    "import datetime\n",
    "from datetime import date\n",
    "\n",
    "# Add this to your code to output runtimes \n",
    "try:\n",
    "    %load_ext autotime\n",
    "except:\n",
    "    !pip install ipython-autotime\n",
    "    %load_ext autotime"
   ]
  },
  {
   "cell_type": "markdown",
   "id": "b82c57b1-dd6a-4621-9e00-346571597495",
   "metadata": {},
   "source": [
    "#### Locations"
   ]
  },
  {
   "cell_type": "code",
   "execution_count": null,
   "id": "3ca2ca62-faee-4d39-872f-ee454368ca67",
   "metadata": {},
   "outputs": [],
   "source": [
    "project = \"Brand Health Dashboards\"\n",
    "main = r\"C:/Users/Stephanie.Tuohey/OneDrive - Chiaro Technology Ltd/Projects/\" + project\n",
    "data = main + r\"/data\"\n",
    "inputs = data + r\"/inputs\"\n",
    "outputs = data + r\"/outputs\""
   ]
  },
  {
   "cell_type": "markdown",
   "id": "28262c9a-cc65-482b-8d06-0f5ca80cb442",
   "metadata": {},
   "source": [
    "#### Dates!"
   ]
  },
  {
   "cell_type": "code",
   "execution_count": null,
   "id": "c98db9c3-6efd-400f-9fbe-ae8e4bfd382e",
   "metadata": {},
   "outputs": [],
   "source": [
    "# Create the date object of today's date\n",
    "todays_date = date.today()\n",
    "\n",
    "#--------------hardcoding----------------#\n",
    "# todays_date = \"2023-03-01\"\n",
    "# todays_date = pd.to_datetime(todays_date)\n",
    "#----------------------------------------#\n",
    "\n",
    "# Create current month as 2 digit string\n",
    "Current_month = '{:02d}'.format(todays_date.month)\n",
    "\n",
    "# Create first day of current month\n",
    "current_month_start   = str(todays_date.year) + '-' + Current_month + '-01'\n",
    "pd.to_datetime(current_month_start)\n",
    "\n",
    "\n",
    "#create date 1 year ago    \n",
    "range_start = str(todays_date.year - 1) + \"-\" + str(Current_month) + \"-\"  + \"01\"\n",
    "if todays_date.month == 1:\n",
    "    report_month = calendar.month_name[12]+\" \"+str(todays_date.year - 1)\n",
    "else:\n",
    "    report_month = calendar.month_name[(todays_date.month)-1]+\" \"+str(todays_date.year)\n",
    "\n",
    "\n",
    "print (\"Current month:\", Current_month)\n",
    "print (\"Data start date: \" + range_start)\n",
    "print (\"First day of current month: \" + current_month_start)\n",
    "print (report_month)"
   ]
  },
  {
   "cell_type": "markdown",
   "id": "09ce375d-cdeb-4b55-b98c-12c344be89cd",
   "metadata": {},
   "source": [
    "#### Read data"
   ]
  },
  {
   "cell_type": "code",
   "execution_count": null,
   "id": "5bdb8ae8-776c-44cf-9799-f936eb3573a9",
   "metadata": {},
   "outputs": [],
   "source": [
    "df = pd.read_csv(data + r\"/file_name.csv\")\n",
    "df = pd.read_excel(data + r\"/file_name.xlsx\", sheet_name=\"Sheet 1\")"
   ]
  },
  {
   "cell_type": "markdown",
   "id": "1ef1188a-6c3e-4f96-a095-53eccb8ffd3c",
   "metadata": {},
   "source": [
    "#### Loops"
   ]
  },
  {
   "cell_type": "code",
   "execution_count": null,
   "id": "78d4ac4a-c61d-4285-a7b5-c4c57e94d5aa",
   "metadata": {},
   "outputs": [],
   "source": [
    "#define vars for loop\n",
    "Years = [\"2021\", \"2022\", \"2023\"]\n",
    "Quarters = [\"Q1\", \"Q2\", \"Q3\", \"Q4\"]\n",
    "\n",
    "#create dictionary to hold resulting dataframes\n",
    "data_dict = {}\n",
    "\n",
    "#loop through all vars\n",
    "for XXXX in Years:\n",
    "    for Q in Quarters:\n",
    "            #end loop where vars don't exist\n",
    "            if XXXX == \"2023\" and (Q == \"Q2\" or Q == \"Q3\" or Q == \"Q4\"):\n",
    "                break\n",
    "            \n",
    "            df = pd.read_excel(data + r\"/\" + XXXX + r\"/\" + \" \" + Q + \" \" + XXXX + \".xlsx\")\n",
    "            df[\"Date\"] = XXXX + \" \" + Q\n",
    "            \n",
    "#store df in dictionary\n",
    "            data_dict[Q + XXXX] = df"
   ]
  },
  {
   "cell_type": "markdown",
   "id": "a56cd1a0-8d47-4d07-b718-bc8a1e4af069",
   "metadata": {},
   "source": [
    "#### Derived fields"
   ]
  },
  {
   "cell_type": "code",
   "execution_count": null,
   "id": "4b0822e1-ffbc-456e-82b1-19a00fe17579",
   "metadata": {},
   "outputs": [],
   "source": [
    "# Standard derived fields\n",
    "def metric_def (row):\n",
    "    if row['Question number'] == \"Q2\":\n",
    "        return \"age question\"\n",
    "    elif row['Question number'] == \"Q3\":\n",
    "        return \"other question\"\n",
    "    else:\n",
    "        return \"\"\n",
    "df[\"metric\"] = df.apply (lambda row: metric_def(row), axis=1)\n",
    "\n",
    "# Split field using delimiter\n",
    "df['Column - substring'] = df['Column'].str.split(' - ').str[-1]\n",
    "\n",
    "# Make field containing length of srings in another field\n",
    "df[\"len\"] = df['Column'].str.len()\n",
    "\n",
    "# Return substring of another column\n",
    "return row['Column'][0:var-9]\n",
    "\n",
    "# Derive if a field value is Null or NaN or empty\n",
    "elif pd.isna(row[\"Column\"]):\n",
    "    return \"Is blank\"\n",
    "\n",
    "# Return row with leading/trailing blanks stripped\n",
    "return row[\"Inquiry Type 1 - trimmed\"].rstrip()"
   ]
  },
  {
   "cell_type": "markdown",
   "id": "7dfadff4-a7d4-47c1-97b0-ea14e328fbb3",
   "metadata": {},
   "source": [
    "#### Set/concat dfs on top of eachother"
   ]
  },
  {
   "cell_type": "code",
   "execution_count": null,
   "id": "fca0edec-84d0-433f-bdc6-ae508805ed12",
   "metadata": {},
   "outputs": [],
   "source": [
    "df_concat = pd.concat((\n",
    "                # UK data\n",
    "                data_dict[\"UK\" + \"Q1\" + \"2021\"],\n",
    "                data_dict[\"UK\" + \"Q2\" + \"2021\"]                \n",
    "                ), ignore_index = True)"
   ]
  },
  {
   "cell_type": "markdown",
   "id": "53d2909b-57a5-47d1-84eb-59d0cc5e219a",
   "metadata": {},
   "source": [
    "#### Create variable from dataframe"
   ]
  },
  {
   "cell_type": "code",
   "execution_count": null,
   "id": "de9a9c15-4dfc-4fb1-8209-ca66a85d76d6",
   "metadata": {},
   "outputs": [],
   "source": [
    "df_filtered = df[df[\"Column\"] == \"string\"]\n",
    "\n",
    "# Call symput equivalent\n",
    "var = df_filtered.iloc[0][\"Column\"]"
   ]
  },
  {
   "cell_type": "markdown",
   "id": "a6bef52b-2982-4d6b-8a63-e6733eab4b48",
   "metadata": {},
   "source": [
    "#### Where statement / df filtering"
   ]
  },
  {
   "cell_type": "code",
   "execution_count": null,
   "id": "a1e8d320-38cf-4365-9097-694843938c45",
   "metadata": {},
   "outputs": [],
   "source": [
    "df = df[df[\"Response\"] != \"Skipped\"]\n",
    "df = df[df[\"Response\"] == \"Skipped\"]\n",
    "\n",
    "# Filter to multiple values \n",
    "codes = [\"code1\", \"code2\", \"code3\"]\n",
    "df = df[df['Response Code'].isin(codes)]\n",
    "\n",
    "# Filter out multiple values with ~\n",
    "codes = [\"code1\", \"code2\", \"code3\"]\n",
    "df = df[~df[\"Response Code\"].isin(codes)]\n",
    "\n",
    "# Filter with or\n",
    "df = df[(df['variable'].isin(codes)) | (df['Audience'] == \"value\")]\n",
    "\n",
    "# Add .copy() if you're getting \"A value is trying to be set on a copy of a slice from a DataFrame\" error\n",
    "df = df[df[\"Response\"] == \"Skipped\"].copy()"
   ]
  },
  {
   "cell_type": "markdown",
   "id": "909fae23-fd0a-4ff7-8540-a154bde79c21",
   "metadata": {},
   "source": [
    "#### Print to csv"
   ]
  },
  {
   "cell_type": "code",
   "execution_count": null,
   "id": "0247bae0-2db9-488f-923e-d8336bceec85",
   "metadata": {},
   "outputs": [],
   "source": [
    "df.to_csv(\"test.csv\", index=False)"
   ]
  },
  {
   "cell_type": "markdown",
   "id": "b4cc45f0-5610-4e57-8eb6-2274bf3cc506",
   "metadata": {},
   "source": [
    "#### Summarise data"
   ]
  },
  {
   "cell_type": "code",
   "execution_count": null,
   "id": "94201ff3-4e06-407e-ba9e-a161d7232e6d",
   "metadata": {},
   "outputs": [],
   "source": [
    "Totals = df.groupby(['Survey', 'Question number'],\n",
    "                    dropna=False, as_index=False)['Respondent ID'].agg(['count']).rename(columns={'count':'Total'})\n",
    "Totals = Totals.reset_index()\n",
    "\n",
    "# Summarise by DISTINCT ID\n",
    "Distinct_totals = df.groupby(['Survey', 'Question number'],\n",
    "                             dropna=False, as_index=False)['Respondent ID'].agg('nunique').rename(columns={'Respondent ID':'Total'})\n",
    "Distinct_totals = Distinct_totals.reset_index()"
   ]
  },
  {
   "cell_type": "markdown",
   "id": "2b97623f-172f-4de3-a235-8d648db3b749",
   "metadata": {},
   "source": [
    "#### Merge two dfs"
   ]
  },
  {
   "cell_type": "code",
   "execution_count": null,
   "id": "3bc4fb57-269c-4a89-9578-efac6f8545f0",
   "metadata": {},
   "outputs": [],
   "source": [
    "merged = df.merge(Totals, how = 'left', on = ['Survey', 'Question number'])"
   ]
  },
  {
   "cell_type": "markdown",
   "id": "ff9aa15c-5378-4565-9a44-5daedf4ce75f",
   "metadata": {},
   "source": [
    "#### Sort data"
   ]
  },
  {
   "cell_type": "code",
   "execution_count": null,
   "id": "ad77578b-ee96-4cf8-ab87-66494050d5dd",
   "metadata": {},
   "outputs": [],
   "source": [
    "grouping_vars = [\"Product\",\"MonthYear\",\"Main Contact Reason\"]\n",
    "\n",
    "summary = summary.sort_values(grouping_vars, ascending=True)"
   ]
  },
  {
   "cell_type": "markdown",
   "id": "23a789cc-2ccd-4e17-a363-134d12e5b361",
   "metadata": {},
   "source": [
    "#### Transpose wide to long"
   ]
  },
  {
   "cell_type": "code",
   "execution_count": null,
   "id": "d1fb6686-cb41-4ded-88f2-0ea4184fe4e5",
   "metadata": {},
   "outputs": [],
   "source": [
    "df_transpose = pd.melt(df, id_vars=[\"ID column 1\", \n",
    "                                    \"ID column 2\", \n",
    "                                    \"ID column 3\"]\n",
    "                       , \n",
    "                       value_vars = [\"column to transpose 1\",\n",
    "                                     \"column to transpose 2\",\n",
    "                                     \"column to transpose 3\"]).rename(columns={\"variable\":\"new column name\"})"
   ]
  },
  {
   "cell_type": "markdown",
   "id": "7e4e6c15-31e8-421d-a29c-dae211e8cdfa",
   "metadata": {},
   "source": [
    "#### Create and call function"
   ]
  },
  {
   "cell_type": "code",
   "execution_count": null,
   "id": "a5347ecf-d4d2-469e-81b9-3eff6c3860ff",
   "metadata": {},
   "outputs": [],
   "source": [
    "#create dictionary to hold resulting dataframes\n",
    "data_dict = {}\n",
    "\n",
    "#define function\n",
    "def create_summaries(graph,grouping_vars):\n",
    "    last_element = grouping_vars[-1]\n",
    "    \n",
    "    summary = merged_country.groupby(grouping_vars, dropna=False, as_index=False)['Case Number'].agg(['count'])\n",
    "    summary = summary.reset_index()\n",
    "    summary = summary.sort_values(grouping_vars, ascending=True)\n",
    "    global data_dict\n",
    "    data_dict[graph] = summary\n",
    "    \n",
    "    \n",
    "# Call function to create totals\n",
    "create_summaries(graph = \"totals\",grouping_vars = [\"Product\",\"MonthYear\",\"Main Contact Reason\"])"
   ]
  },
  {
   "cell_type": "markdown",
   "id": "0d3cbc0c-f615-48c2-8c2c-6aad7ef76ea6",
   "metadata": {},
   "source": [
    "#### Substring from left"
   ]
  },
  {
   "cell_type": "code",
   "execution_count": null,
   "id": "9884d34b-e8f7-43e0-9792-799256d3a272",
   "metadata": {},
   "outputs": [],
   "source": [
    "string = \"freeCodeCamp\"\n",
    "print(string[2:6])\n",
    "\n",
    "# Outputs: \"eeCo\""
   ]
  },
  {
   "cell_type": "markdown",
   "id": "89360b5f-c22a-4da2-9082-ee69870a50f2",
   "metadata": {},
   "source": [
    "#### Replace substring with another string"
   ]
  },
  {
   "cell_type": "code",
   "execution_count": 1,
   "id": "53b783f3-c9fd-44fa-86b9-400a746cee40",
   "metadata": {},
   "outputs": [
    {
     "name": "stdout",
     "output_type": "stream",
     "text": [
      "'Age', 'Gender', 'Home Region', 'Work Region', 'Personal Earnings', 'Gross Household Earnings (Annual)', 'Education Level', 'Relationship Status', 'Employment Type', 'Employment Sector', 'Professional Experience', 'Status of children in household', 'Home Owner/Renter', 'Adults in Household', 'Age and Gender of Child', 'Pets'\n"
     ]
    }
   ],
   "source": [
    "a_string = '“Age”, “Gender”, “Home Region”, “Work Region”, “Personal Earnings”, “Gross Household Earnings (Annual)”, “Education Level”, “Relationship Status”, “Employment Type”, “Employment Sector”, “Professional Experience”, “Status of children in household”, “Home Owner/Renter”, “Adults in Household”, “Age and Gender of Child”, “Pets”'\n",
    "stripped_string = a_string.strip('\"') # Only removes quote marks at each end\n",
    "\t\t\t\t\t\t\t\t\t  # of the string.\n",
    "#print(stripped_string)  \n",
    "\n",
    "replaced_string = a_string.replace('“',\"'\") #Removes al quote marks from \n",
    "\t\t\t\t\t\t\t\t\t\t   # string.\n",
    "replaced_string = replaced_string.replace('”',\"'\") #Removes al quote marks from \n",
    "\t\t\t\t\t\t\t\t\t\t   # string.\n",
    "print(replaced_string) "
   ]
  },
  {
   "cell_type": "markdown",
   "id": "13d40917-16e4-4b15-bdf6-19ae0b8f2cef",
   "metadata": {},
   "source": [
    "#### Connect to Salesforce and retrieve Report"
   ]
  },
  {
   "cell_type": "code",
   "execution_count": null,
   "id": "bb91c838-d4f7-4e71-8516-47616a317520",
   "metadata": {},
   "outputs": [],
   "source": [
    "ReportId = \"00O8d000005r9h1EAA\" # VoC data - Jan 2023\n",
    "\n",
    "import sys\n",
    "sys.path.append('C:\\\\Users\\\\Stephanie.Tuohey\\\\OneDrive - Chiaro Technology Ltd\\\\Projects')\n",
    "import sf_code\n",
    "from sf_code import gimme_sf_data\n",
    "download_report,StringIO = gimme_sf_data(ReportId)\n",
    "raw = pd.read_csv(StringIO(download_report), parse_dates=['Opened Date'], dayfirst=True)"
   ]
  },
  {
   "cell_type": "code",
   "execution_count": null,
   "id": "9e33b6f5-4236-4f87-936f-0f825533890d",
   "metadata": {},
   "outputs": [],
   "source": [
    "# code to save elsewhere\n",
    "def gimme_sf_data():\n",
    "\n",
    "    #--------------------------#\n",
    "    #     Salesforce Login     #\n",
    "    #--------------------------#\n",
    "    import getpass\n",
    "    sf_password = getpass.getpass(\"Password: \")\n",
    "    sf_security_token = getpass.getpass(\"Enter verification code (from Salesforce authenticator app): \")\n",
    "\n",
    "\n",
    "    sf = Salesforce(username='stephanie.tuohey@chiaro.co.uk', password=sf_password, security_token=sf_security_token)\n",
    "\n",
    "    # Delete passwords from memory once entered\n",
    "    del sf_password\n",
    "    del sf_security_token\n",
    "\n",
    "    #-----------------------------#\n",
    "    #     Get Salesforce data     #\n",
    "    #-----------------------------#\n",
    "    # sf_instance = 'elvie.my.salesforce.com'\n",
    "    sf_instance = 'elvie.lightning.force.com'\n",
    "    export_url = 'https://' + sf.sf_instance + '/' + reportId + '?isdtp=p1&export=1&enc=UTF-8&xf=csv'\n",
    "\n",
    "    session = requests.Session()\n",
    "    response = session.get(export_url, headers=sf.headers, cookies={'sid': sf.session_id})\n",
    "    download_report = response.content.decode('utf-8')\n",
    "    from io import StringIO\n",
    "    return download_report,StringIO"
   ]
  },
  {
   "cell_type": "code",
   "execution_count": null,
   "id": "40cc2449-fe1d-4b09-a9aa-6d92d57e1a37",
   "metadata": {},
   "outputs": [],
   "source": [
    "#-----------------------------#\n",
    "#        Tableau Stars        #\n",
    "#-----------------------------#\n",
    "\n",
    "# Field: Stars\n",
    "# REPLACE(SPACE(ROUND([Star Rating],0)),\" \",\"★\")+\n",
    "# REPLACE(SPACE(5-ROUND([Star Rating],0)),\" \",\"☆\")\n",
    "\n",
    "# Field: Rating Groups\n",
    "IF ROUND([Weighted Average Rating],1)<3.8 THEN \"Red\"\n",
    "ELSEIF ROUND([Weighted Average Rating],1)<4.0 THEN \"Amber\"\n",
    "ELSEIF ROUND([Weighted Average Rating],1)>=4.0 THEN \"Green\"\n",
    "ELSE \"Not Available\"\n",
    "END"
   ]
  }
 ],
 "metadata": {
  "kernelspec": {
   "display_name": "Python 3 (ipykernel)",
   "language": "python",
   "name": "python3"
  },
  "language_info": {
   "codemirror_mode": {
    "name": "ipython",
    "version": 3
   },
   "file_extension": ".py",
   "mimetype": "text/x-python",
   "name": "python",
   "nbconvert_exporter": "python",
   "pygments_lexer": "ipython3",
   "version": "3.11.4"
  }
 },
 "nbformat": 4,
 "nbformat_minor": 5
}
