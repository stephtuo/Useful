{
 "cells": [
  {
   "cell_type": "code",
   "execution_count": 1,
   "metadata": {},
   "outputs": [
    {
     "name": "stdout",
     "output_type": "stream",
     "text": [
      "C:\\Users\\stephanie.tuohey\\Desktop\\Python learning\\data_extract.csv\n"
     ]
    }
   ],
   "source": [
    "#impoert modules\n",
    "import pandas as pd\n",
    "import numpy as np\n",
    "from pandas import Series, DataFrame\n",
    "from matplotlib import pyplot as plt\n",
    "\n",
    "#locate data\n",
    "data = r\"C:\\Users\\stephanie.tuohey\\Desktop\\Python learning\\data_extract.csv\"\n",
    "print(data)"
   ]
  },
  {
   "cell_type": "code",
   "execution_count": 2,
   "metadata": {
    "scrolled": true
   },
   "outputs": [],
   "source": [
    "#Read csv\n",
    "fr = pd.read_csv(data, engine='python')\n",
    "#or\n",
    "#fr = pd.read_csv(\"data_extract.csv\")"
   ]
  },
  {
   "cell_type": "code",
   "execution_count": 3,
   "metadata": {},
   "outputs": [
    {
     "data": {
      "text/plain": [
       "['Sector',\n",
       " 'Country',\n",
       " 'Age',\n",
       " 'satisfaction',\n",
       " 'Student accommodation',\n",
       " 'At home (own or family home)',\n",
       " '18']"
      ]
     },
     "execution_count": 3,
     "metadata": {},
     "output_type": "execute_result"
    }
   ],
   "source": [
    "list(fr)"
   ]
  },
  {
   "cell_type": "code",
   "execution_count": 4,
   "metadata": {},
   "outputs": [
    {
     "data": {
      "text/html": [
       "<div>\n",
       "<style scoped>\n",
       "    .dataframe tbody tr th:only-of-type {\n",
       "        vertical-align: middle;\n",
       "    }\n",
       "\n",
       "    .dataframe tbody tr th {\n",
       "        vertical-align: top;\n",
       "    }\n",
       "\n",
       "    .dataframe thead th {\n",
       "        text-align: right;\n",
       "    }\n",
       "</style>\n",
       "<table border=\"1\" class=\"dataframe\">\n",
       "  <thead>\n",
       "    <tr style=\"text-align: right;\">\n",
       "      <th></th>\n",
       "      <th>Age</th>\n",
       "      <th>satisfaction</th>\n",
       "    </tr>\n",
       "  </thead>\n",
       "  <tbody>\n",
       "    <tr>\n",
       "      <th>count</th>\n",
       "      <td>17.000000</td>\n",
       "      <td>17.000000</td>\n",
       "    </tr>\n",
       "    <tr>\n",
       "      <th>mean</th>\n",
       "      <td>47.352941</td>\n",
       "      <td>4.705882</td>\n",
       "    </tr>\n",
       "    <tr>\n",
       "      <th>std</th>\n",
       "      <td>21.843023</td>\n",
       "      <td>2.143732</td>\n",
       "    </tr>\n",
       "    <tr>\n",
       "      <th>min</th>\n",
       "      <td>18.000000</td>\n",
       "      <td>2.000000</td>\n",
       "    </tr>\n",
       "    <tr>\n",
       "      <th>25%</th>\n",
       "      <td>32.000000</td>\n",
       "      <td>3.000000</td>\n",
       "    </tr>\n",
       "    <tr>\n",
       "      <th>50%</th>\n",
       "      <td>44.000000</td>\n",
       "      <td>4.000000</td>\n",
       "    </tr>\n",
       "    <tr>\n",
       "      <th>75%</th>\n",
       "      <td>58.000000</td>\n",
       "      <td>6.000000</td>\n",
       "    </tr>\n",
       "    <tr>\n",
       "      <th>max</th>\n",
       "      <td>94.000000</td>\n",
       "      <td>9.000000</td>\n",
       "    </tr>\n",
       "  </tbody>\n",
       "</table>\n",
       "</div>"
      ],
      "text/plain": [
       "             Age  satisfaction\n",
       "count  17.000000     17.000000\n",
       "mean   47.352941      4.705882\n",
       "std    21.843023      2.143732\n",
       "min    18.000000      2.000000\n",
       "25%    32.000000      3.000000\n",
       "50%    44.000000      4.000000\n",
       "75%    58.000000      6.000000\n",
       "max    94.000000      9.000000"
      ]
     },
     "execution_count": 4,
     "metadata": {},
     "output_type": "execute_result"
    }
   ],
   "source": [
    "#creates stats for numerical fields\n",
    "fr.describe()"
   ]
  },
  {
   "cell_type": "code",
   "execution_count": 5,
   "metadata": {},
   "outputs": [
    {
     "data": {
      "image/png": "[encoded data removed]",
      "text/plain": [
       "<Figure size 432x288 with 1 Axes>"
      ]
     },
     "metadata": {
      "needs_background": "light"
     },
     "output_type": "display_data"
    }
   ],
   "source": [
    "#line graph (x-axis,y-axis)\n",
    "#x=plt.plot(fr.Age, fr.satisfaction)\n",
    "y=plt.scatter(fr.Age, fr.satisfaction)"
   ]
  },
  {
   "cell_type": "code",
   "execution_count": 6,
   "metadata": {},
   "outputs": [
    {
     "name": "stdout",
     "output_type": "stream",
     "text": [
      "0     74\n",
      "1     59\n",
      "2     35\n",
      "3     20\n",
      "4     56\n",
      "5     49\n",
      "6     45\n",
      "7     74\n",
      "8     40\n",
      "9     33\n",
      "10    28\n",
      "11    22\n",
      "12    54\n",
      "13    74\n",
      "14    95\n",
      "15    45\n",
      "16    19\n",
      "Name: Age, dtype: int64\n"
     ]
    }
   ],
   "source": [
    "older = fr.Age+1\n",
    "print(older)"
   ]
  },
  {
   "cell_type": "code",
   "execution_count": 7,
   "metadata": {},
   "outputs": [
    {
     "name": "stdout",
     "output_type": "stream",
     "text": [
      "   Sector   Country  Age  satisfaction Student accommodation  \\\n",
      "0      FE   England   73             2                   Yes   \n",
      "1      HE  Scotland   58             3                    No   \n",
      "2      HE   England   34             5                    No   \n",
      "3      HE        NI   19             7                   Yes   \n",
      "4      FE     Wales   55             2                    No   \n",
      "5      FE   England   48             7                    No   \n",
      "6      FE   England   44             3                   Yes   \n",
      "7      HE  Scotland   73             5                   Yes   \n",
      "8      HE   England   39             8                    No   \n",
      "9      FE   England   32             4                    No   \n",
      "10     FE   England   27             4                    No   \n",
      "11     HE   England   21             6                   Yes   \n",
      "12     HE  Scotland   53             3                    No   \n",
      "13     HE   England   73             3                    No   \n",
      "14     HE   England   94             3                    No   \n",
      "15     HE     Wales   44             9                    No   \n",
      "16     HE     Wales   18             6                    No   \n",
      "\n",
      "   At home (own or family home)  \\\n",
      "0                            No   \n",
      "1                           Yes   \n",
      "2                           Yes   \n",
      "3                            No   \n",
      "4                           Yes   \n",
      "5                           Yes   \n",
      "6                            No   \n",
      "7                            No   \n",
      "8                           Yes   \n",
      "9                           Yes   \n",
      "10                          Yes   \n",
      "11                          Yes   \n",
      "12                          Yes   \n",
      "13                          Yes   \n",
      "14                          Yes   \n",
      "15                          Yes   \n",
      "16                          Yes   \n",
      "\n",
      "                                                   18  \n",
      "0   Connectivity issues - poor wifi from staff lea...  \n",
      "1   Missing in person interactions which can promp...  \n",
      "2          Long sessions timetabled into the evening.  \n",
      "3   all of it really and it has a real impact on t...  \n",
      "4           Teaching style - it does not work for me   \n",
      "5   lectures can be slow paced and i find it easie...  \n",
      "6   cooperation with students whom i did not see a...  \n",
      "7   Technology problems and changes to speed of de...  \n",
      "8   Breifs are very plain and why emailing to ask ...  \n",
      "9   Sometimes the sound goes off when the lecturer...  \n",
      "10  if the class was on site teachers usually did ...  \n",
      "11  I feel less like a part of the university. I'v...  \n",
      "12  Frustration over not being able to access Padl...  \n",
      "13  Online platforms seem out-dated compared to Pr...  \n",
      "14  Not being able to meet all the lecturers or ot...  \n",
      "15  It is difficult to interact with the lecturer ...  \n",
      "16  It is extremely difficult to pay attention. Cl...  \n"
     ]
    }
   ],
   "source": [
    "print(fr)"
   ]
  },
  {
   "cell_type": "code",
   "execution_count": 8,
   "metadata": {},
   "outputs": [
    {
     "data": {
      "text/html": [
       "<div>\n",
       "<style scoped>\n",
       "    .dataframe tbody tr th:only-of-type {\n",
       "        vertical-align: middle;\n",
       "    }\n",
       "\n",
       "    .dataframe tbody tr th {\n",
       "        vertical-align: top;\n",
       "    }\n",
       "\n",
       "    .dataframe thead th {\n",
       "        text-align: right;\n",
       "    }\n",
       "</style>\n",
       "<table border=\"1\" class=\"dataframe\">\n",
       "  <thead>\n",
       "    <tr style=\"text-align: right;\">\n",
       "      <th></th>\n",
       "      <th>Sector</th>\n",
       "      <th>Country</th>\n",
       "      <th>Age</th>\n",
       "      <th>satisfaction</th>\n",
       "      <th>Student accommodation</th>\n",
       "      <th>At home (own or family home)</th>\n",
       "      <th>18</th>\n",
       "    </tr>\n",
       "  </thead>\n",
       "  <tbody>\n",
       "    <tr>\n",
       "      <th>0</th>\n",
       "      <td>FE</td>\n",
       "      <td>England</td>\n",
       "      <td>73</td>\n",
       "      <td>2</td>\n",
       "      <td>Yes</td>\n",
       "      <td>No</td>\n",
       "      <td>Connectivity issues - poor wifi from staff lea...</td>\n",
       "    </tr>\n",
       "    <tr>\n",
       "      <th>1</th>\n",
       "      <td>HE</td>\n",
       "      <td>Scotland</td>\n",
       "      <td>58</td>\n",
       "      <td>3</td>\n",
       "      <td>No</td>\n",
       "      <td>Yes</td>\n",
       "      <td>Missing in person interactions which can promp...</td>\n",
       "    </tr>\n",
       "    <tr>\n",
       "      <th>2</th>\n",
       "      <td>HE</td>\n",
       "      <td>England</td>\n",
       "      <td>34</td>\n",
       "      <td>5</td>\n",
       "      <td>No</td>\n",
       "      <td>Yes</td>\n",
       "      <td>Long sessions timetabled into the evening.</td>\n",
       "    </tr>\n",
       "    <tr>\n",
       "      <th>3</th>\n",
       "      <td>HE</td>\n",
       "      <td>NI</td>\n",
       "      <td>19</td>\n",
       "      <td>7</td>\n",
       "      <td>Yes</td>\n",
       "      <td>No</td>\n",
       "      <td>all of it really and it has a real impact on t...</td>\n",
       "    </tr>\n",
       "    <tr>\n",
       "      <th>4</th>\n",
       "      <td>FE</td>\n",
       "      <td>Wales</td>\n",
       "      <td>55</td>\n",
       "      <td>2</td>\n",
       "      <td>No</td>\n",
       "      <td>Yes</td>\n",
       "      <td>Teaching style - it does not work for me</td>\n",
       "    </tr>\n",
       "    <tr>\n",
       "      <th>5</th>\n",
       "      <td>FE</td>\n",
       "      <td>England</td>\n",
       "      <td>48</td>\n",
       "      <td>7</td>\n",
       "      <td>No</td>\n",
       "      <td>Yes</td>\n",
       "      <td>lectures can be slow paced and i find it easie...</td>\n",
       "    </tr>\n",
       "    <tr>\n",
       "      <th>6</th>\n",
       "      <td>FE</td>\n",
       "      <td>England</td>\n",
       "      <td>44</td>\n",
       "      <td>3</td>\n",
       "      <td>Yes</td>\n",
       "      <td>No</td>\n",
       "      <td>cooperation with students whom i did not see a...</td>\n",
       "    </tr>\n",
       "    <tr>\n",
       "      <th>7</th>\n",
       "      <td>HE</td>\n",
       "      <td>Scotland</td>\n",
       "      <td>73</td>\n",
       "      <td>5</td>\n",
       "      <td>Yes</td>\n",
       "      <td>No</td>\n",
       "      <td>Technology problems and changes to speed of de...</td>\n",
       "    </tr>\n",
       "    <tr>\n",
       "      <th>8</th>\n",
       "      <td>HE</td>\n",
       "      <td>England</td>\n",
       "      <td>39</td>\n",
       "      <td>8</td>\n",
       "      <td>No</td>\n",
       "      <td>Yes</td>\n",
       "      <td>Breifs are very plain and why emailing to ask ...</td>\n",
       "    </tr>\n",
       "    <tr>\n",
       "      <th>9</th>\n",
       "      <td>FE</td>\n",
       "      <td>England</td>\n",
       "      <td>32</td>\n",
       "      <td>4</td>\n",
       "      <td>No</td>\n",
       "      <td>Yes</td>\n",
       "      <td>Sometimes the sound goes off when the lecturer...</td>\n",
       "    </tr>\n",
       "  </tbody>\n",
       "</table>\n",
       "</div>"
      ],
      "text/plain": [
       "  Sector   Country  Age  satisfaction Student accommodation  \\\n",
       "0     FE   England   73             2                   Yes   \n",
       "1     HE  Scotland   58             3                    No   \n",
       "2     HE   England   34             5                    No   \n",
       "3     HE        NI   19             7                   Yes   \n",
       "4     FE     Wales   55             2                    No   \n",
       "5     FE   England   48             7                    No   \n",
       "6     FE   England   44             3                   Yes   \n",
       "7     HE  Scotland   73             5                   Yes   \n",
       "8     HE   England   39             8                    No   \n",
       "9     FE   England   32             4                    No   \n",
       "\n",
       "  At home (own or family home)  \\\n",
       "0                           No   \n",
       "1                          Yes   \n",
       "2                          Yes   \n",
       "3                           No   \n",
       "4                          Yes   \n",
       "5                          Yes   \n",
       "6                           No   \n",
       "7                           No   \n",
       "8                          Yes   \n",
       "9                          Yes   \n",
       "\n",
       "                                                  18  \n",
       "0  Connectivity issues - poor wifi from staff lea...  \n",
       "1  Missing in person interactions which can promp...  \n",
       "2         Long sessions timetabled into the evening.  \n",
       "3  all of it really and it has a real impact on t...  \n",
       "4          Teaching style - it does not work for me   \n",
       "5  lectures can be slow paced and i find it easie...  \n",
       "6  cooperation with students whom i did not see a...  \n",
       "7  Technology problems and changes to speed of de...  \n",
       "8  Breifs are very plain and why emailing to ask ...  \n",
       "9  Sometimes the sound goes off when the lecturer...  "
      ]
     },
     "execution_count": 8,
     "metadata": {},
     "output_type": "execute_result"
    }
   ],
   "source": [
    "fr.head(n=10)"
   ]
  },
  {
   "cell_type": "code",
   "execution_count": 9,
   "metadata": {},
   "outputs": [
    {
     "data": {
      "text/plain": [
       "['count', 'mean', 'std', 'min', '25%', '50%', '75%', 'max']"
      ]
     },
     "execution_count": 9,
     "metadata": {},
     "output_type": "execute_result"
    }
   ],
   "source": [
    "sector_country = fr.groupby([\"Sector\", \"Country\"])\n",
    "sector_country[\"Age\"].describe()\n",
    "des = sector_country[\"Age\"].describe()\n",
    "#print(des)\n",
    "list(des)\n",
    "#print(des.count)"
   ]
  },
  {
   "cell_type": "code",
   "execution_count": 10,
   "metadata": {},
   "outputs": [
    {
     "name": "stdout",
     "output_type": "stream",
     "text": [
      "<pandas.core.groupby.generic.DataFrameGroupBy object at 0x000002C1A0EF5460>\n"
     ]
    }
   ],
   "source": [
    "\n",
    "print(sector_country)"
   ]
  },
  {
   "cell_type": "code",
   "execution_count": 11,
   "metadata": {},
   "outputs": [
    {
     "name": "stdout",
     "output_type": "stream",
     "text": [
      "0      FEEngland\n",
      "1     HEScotland\n",
      "2      HEEngland\n",
      "3           HENI\n",
      "4        FEWales\n",
      "5      FEEngland\n",
      "6      FEEngland\n",
      "7     HEScotland\n",
      "8      HEEngland\n",
      "9      FEEngland\n",
      "10     FEEngland\n",
      "11     HEEngland\n",
      "12    HEScotland\n",
      "13     HEEngland\n",
      "14     HEEngland\n",
      "15       HEWales\n",
      "16       HEWales\n",
      "dtype: object\n",
      "count of HE and England is 1\n"
     ]
    }
   ],
   "source": [
    "sector_country = fr.Sector+fr.Country\n",
    "HEEngland_count=len([['sector_country']=='HEEngland'])\n",
    "print(sector_country)\n",
    "print(\"count of HE and England is\",HEEngland_count)"
   ]
  },
  {
   "cell_type": "code",
   "execution_count": 12,
   "metadata": {},
   "outputs": [],
   "source": [
    "sec=fr.Sector"
   ]
  },
  {
   "cell_type": "code",
   "execution_count": 13,
   "metadata": {},
   "outputs": [
    {
     "name": "stdout",
     "output_type": "stream",
     "text": [
      "HE count is 11\n",
      "FE count is 6\n"
     ]
    }
   ],
   "source": [
    "HE_count=len(fr[fr['Sector']=='HE'])\n",
    "FE_count=len(fr[fr['Sector']=='FE'])\n",
    "print(\"HE count is\",HE_count)\n",
    "print(\"FE count is\",FE_count)"
   ]
  },
  {
   "cell_type": "code",
   "execution_count": 14,
   "metadata": {},
   "outputs": [
    {
     "name": "stdout",
     "output_type": "stream",
     "text": [
      "The count of ('a', 'b') is: 2\n",
      "The count of [3, 4] is: 1\n"
     ]
    }
   ],
   "source": [
    "# random list\n",
    "random = ['a', ('a', 'b'), ('a', 'b'), [3, 4]]\n",
    "\n",
    "# count element ('a', 'b')\n",
    "count = random.count(('a', 'b'))\n",
    "\n",
    "# print count\n",
    "print(\"The count of ('a', 'b') is:\", count)\n",
    "\n",
    "# count element [3, 4]\n",
    "count = random.count([3, 4])\n",
    "\n",
    "# print count\n",
    "print(\"The count of [3, 4] is:\", count)"
   ]
  },
  {
   "cell_type": "code",
   "execution_count": null,
   "metadata": {},
   "outputs": [],
   "source": [
    "split1 = input('enter the variable name\\n')\n",
    "#print(name)"
   ]
  },
  {
   "cell_type": "code",
   "execution_count": null,
   "metadata": {},
   "outputs": [],
   "source": [
    "number = int(input(\"Enter any number\\n\"))\n",
    "if(number%2==0):\n",
    "    print(\"This number is even\")\n",
    "else:\n",
    "    print(\"This number is odd\")"
   ]
  },
  {
   "cell_type": "code",
   "execution_count": null,
   "metadata": {},
   "outputs": [],
   "source": [
    "ch = input(\"Enter any single alphabetical character:\\n\")\n",
    "c = ch.upper()\n",
    "if((c=='A')|(c=='E')|(c=='I')|(c=='O')|(c=='U')):\n",
    "    print('This character is a vowel:',c)\n",
    "else:\n",
    "    print('This character is a constonant:',ch)"
   ]
  },
  {
   "cell_type": "code",
   "execution_count": null,
   "metadata": {},
   "outputs": [],
   "source": [
    "a=\"hello\"\n",
    "b=a.upper()\n",
    "print(b)"
   ]
  },
  {
   "cell_type": "code",
   "execution_count": null,
   "metadata": {},
   "outputs": [],
   "source": [
    "for jkl in range (1,6,2):\n",
    "    print(jkl)"
   ]
  },
  {
   "cell_type": "code",
   "execution_count": null,
   "metadata": {},
   "outputs": [],
   "source": [
    "num=0\n",
    "for i in range(6):\n",
    "    num=num+i\n",
    "    print(i,num)#triangular number sequence"
   ]
  },
  {
   "cell_type": "code",
   "execution_count": null,
   "metadata": {},
   "outputs": [],
   "source": [
    "i=0\n",
    "while (i<5):\n",
    "    print(i)\n",
    "    i=i+1"
   ]
  },
  {
   "cell_type": "code",
   "execution_count": null,
   "metadata": {},
   "outputs": [],
   "source": [
    "import sklearn\n",
    "assert sklearn.__version__ >= \"0.20\"\n",
    "help(sklearn)"
   ]
  },
  {
   "cell_type": "code",
   "execution_count": null,
   "metadata": {},
   "outputs": [],
   "source": [
    "help(slice)"
   ]
  },
  {
   "cell_type": "code",
   "execution_count": null,
   "metadata": {},
   "outputs": [],
   "source": [
    "def my_function():\n",
    "  print(\"Hello from a function\")"
   ]
  },
  {
   "cell_type": "markdown",
   "metadata": {},
   "source": [
    "\n"
   ]
  },
  {
   "cell_type": "code",
   "execution_count": null,
   "metadata": {},
   "outputs": [],
   "source": [
    "my_function()"
   ]
  },
  {
   "cell_type": "code",
   "execution_count": null,
   "metadata": {},
   "outputs": [],
   "source": [
    "def my_function(fname):\n",
    "  print(fname + \" Refsnes\")\n",
    "\n",
    "my_function(\"Emil\")\n",
    "my_function(\"Tobias\")\n",
    "my_function(\"Linus\")"
   ]
  },
  {
   "cell_type": "code",
   "execution_count": null,
   "metadata": {},
   "outputs": [],
   "source": []
  }
 ],
 "metadata": {
  "kernelspec": {
   "display_name": "Python 3",
   "language": "python",
   "name": "python3"
  },
  "language_info": {
   "codemirror_mode": {
    "name": "ipython",
    "version": 3
   },
   "file_extension": ".py",
   "mimetype": "text/x-python",
   "name": "python",
   "nbconvert_exporter": "python",
   "pygments_lexer": "ipython3",
   "version": "3.8.5"
  }
 },
 "nbformat": 4,
 "nbformat_minor": 4
}
