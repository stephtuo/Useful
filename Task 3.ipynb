{
 "cells": [
  {
   "cell_type": "code",
   "execution_count": 1,
   "metadata": {},
   "outputs": [
    {
     "name": "stdout",
     "output_type": "stream",
     "text": [
      "C:\\Users\\stephanie.tuohey\\Desktop\\MG\\data.csv\n",
      "C:\\Users\\stephanie.tuohey\\Desktop\\MG\\department.csv\n"
     ]
    }
   ],
   "source": [
    "#import modules needed\n",
    "import pandas as pd\n",
    "import numpy as np\n",
    "from pandas import Series, DataFrame\n",
    "from matplotlib import pyplot as plt\n",
    "\n",
    "#create variables for file paths \n",
    "data = r\"C:\\Users\\stephanie.tuohey\\Desktop\\MG\\data.csv\"\n",
    "dept = r\"C:\\Users\\stephanie.tuohey\\Desktop\\MG\\department.csv\"\n",
    "print(data)\n",
    "print(dept)"
   ]
  },
  {
   "cell_type": "code",
   "execution_count": 2,
   "metadata": {},
   "outputs": [
    {
     "data": {
      "text/plain": [
       "['First Name',\n",
       " 'Surname',\n",
       " 'Title',\n",
       " 'Employee Description',\n",
       " 'Effective Status',\n",
       " 'Appointment Type',\n",
       " 'Company',\n",
       " 'Department_ID',\n",
       " 'Location Name',\n",
       " 'Gender',\n",
       " 'Continuous Service Date',\n",
       " 'End Date',\n",
       " 'Birth Date',\n",
       " 'E-mail',\n",
       " 'Hours Per Week',\n",
       " 'Work_Pattern_ID',\n",
       " 'Shift_ID',\n",
       " 'Pay Amount',\n",
       " 'Pay',\n",
       " 'Hourly Equivalent',\n",
       " 'Pay Change Reason',\n",
       " 'Notice Rule',\n",
       " 'Holiday_days',\n",
       " 'Sick_days']"
      ]
     },
     "execution_count": 2,
     "metadata": {},
     "output_type": "execute_result"
    }
   ],
   "source": [
    "#Use read_csv to read data into pandas dataframes\n",
    "original = pd.read_csv(data, engine='python')\n",
    "original = original.rename (columns={\"Sick leave taken (days)\": \"Sick_days\", \"Holiday Leave taken (days)\": \"Holiday_days\",\"FTE Pay Amount\": \"Pay\"})\n",
    "dept = pd.read_csv(dept, engine='python')\n",
    "list(original)"
   ]
  },
  {
   "cell_type": "code",
   "execution_count": 3,
   "metadata": {},
   "outputs": [],
   "source": [
    "#Join \"department\" variable onto the main dataframe\n",
    "all = pd.merge(original, dept)\n",
    "#print(all)"
   ]
  },
  {
   "cell_type": "code",
   "execution_count": 4,
   "metadata": {},
   "outputs": [
    {
     "name": "stdout",
     "output_type": "stream",
     "text": [
      "                               sum       mean\n",
      "Department      Department_ID                \n",
      "Client Services 4                9   1.800000\n",
      "Creative        5               37   4.625000\n",
      "Digital         7               25   6.250000\n",
      "Events          8               30  10.000000\n",
      "Management      11              16   5.333333\n",
      "Planning        13               2   2.000000\n",
      "Social Media    16               7   7.000000\n"
     ]
    }
   ],
   "source": [
    "summary=all.groupby(['Department','Department_ID'])[\"Sick_days\"].agg(['sum','mean'])\n",
    "print(summary)"
   ]
  },
  {
   "cell_type": "code",
   "execution_count": 5,
   "metadata": {},
   "outputs": [
    {
     "data": {
      "text/plain": [
       "Text(0, 0.5, 'Salary')"
      ]
     },
     "execution_count": 5,
     "metadata": {},
     "output_type": "execute_result"
    },
    {
     "data": {
      "image/png": "[encoded data removed]",
      "text/plain": [
       "<Figure size 432x288 with 1 Axes>"
      ]
     },
     "metadata": {
      "needs_background": "light"
     },
     "output_type": "display_data"
    }
   ],
   "source": [
    "y=plt.scatter(all.Sick_days, all.Pay)\n",
    "plt.title('Salary vs Sick days') #title\n",
    "plt.xlabel('Sick leave (days)') #x label\n",
    "plt.ylabel('Salary') #y label"
   ]
  },
  {
   "cell_type": "code",
   "execution_count": null,
   "metadata": {},
   "outputs": [],
   "source": []
  }
 ],
 "metadata": {
  "kernelspec": {
   "display_name": "Python 3",
   "language": "python",
   "name": "python3"
  },
  "language_info": {
   "codemirror_mode": {
    "name": "ipython",
    "version": 3
   },
   "file_extension": ".py",
   "mimetype": "text/x-python",
   "name": "python",
   "nbconvert_exporter": "python",
   "pygments_lexer": "ipython3",
   "version": "3.8.5"
  }
 },
 "nbformat": 4,
 "nbformat_minor": 4
}
